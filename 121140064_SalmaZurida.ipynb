{
  "cells": [
    {
      "cell_type": "code",
      "execution_count": 3,
      "metadata": {
        "colab": {
          "base_uri": "https://localhost:8080/"
        },
        "id": "j4Arf0EojGUh",
        "outputId": "0747d33d-adb9-4f26-e41b-eb00948c1bcc"
      },
      "outputs": [
        {
          "name": "stdout",
          "output_type": "stream",
          "text": [
            "Input : 5\n",
            "*****\n",
            "*****\n",
            "*****\n",
            "*****\n",
            "*****\n"
          ]
        }
      ],
      "source": [
        "n = int(input(\"Input : \"))\n",
        "for i in range (n):\n",
        "    for j in range (n):\n",
        "        print (\"*\", end = \"\")\n",
        "    print()"
      ]
    },
    {
      "cell_type": "code",
      "execution_count": null,
      "metadata": {
        "id": "DCOzsvmCjWis"
      },
      "outputs": [],
      "source": [
        "username = \"Salma Zurida\"\n",
        "password = \"121140064\"\n",
        "\n",
        "for i in range(3):\n",
        "\n",
        "    input_username = input(\"Username anda : \")\n",
        "    input_password = input(\"Password anda : \")\n",
        "    if input_username == username and input_password == password:\n",
        "        print(\"Berhasil Login!\")\n",
        "        break\n",
        "    else:\n",
        "        print(\"Username atau password salah coba lagi\")\n",
        "else:\n",
        "    print(\"Akun Anda Diblokir\")"
      ]
    }
  ],
  "metadata": {
    "colab": {
      "provenance": []
    },
    "kernelspec": {
      "display_name": "Python 3",
      "name": "python3"
    },
    "language_info": {
      "name": "python"
    }
  },
  "nbformat": 4,
  "nbformat_minor": 0
}
