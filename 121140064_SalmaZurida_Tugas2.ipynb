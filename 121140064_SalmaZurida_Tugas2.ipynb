{
  "cells": [
    {
      "cell_type": "code",
      "execution_count": null,
      "metadata": {
        "colab": {
          "base_uri": "https://localhost:8080/",
          "height": 217
        },
        "id": "U9FxNUNDBSgy",
        "outputId": "06c4d1fc-e3d7-4bc7-ae00-71e722da363e"
      },
      "outputs": [],
      "source": [
        "class Mahasiswa:\n",
        "    def _init_(self, nama, nim, kelas, jumlah_sks, semester):\n",
        "        self.nama = nama\n",
        "        self.nim = nim\n",
        "        self.kelas = kelas\n",
        "        self.semester = semester\n",
        "        self.jumlah_sks = jumlah_sks\n",
        "\n",
        "    def display_mahasiswa(self):\n",
        "        print(\"Nama :\", self.nama)\n",
        "        print(\"NIM :\", self.nim)\n",
        "        print(\"Kelas :\", self.kelas)\n",
        "        print(\"Semester :\", self.semester)\n",
        "        print(\"Jumlah SKS :\", self.jumlah_sks)\n",
        "\n",
        "mahasiswa1 = Mahasiswa(\"Salma Zurida\", \"121140064\", \"RC\", 4, 22)\n",
        "mahasiswa1.display_mahasiswa()"
      ]
    }
  ],
  "metadata": {
    "colab": {
      "provenance": []
    },
    "kernelspec": {
      "display_name": "Python 3",
      "name": "python3"
    },
    "language_info": {
      "name": "python"
    }
  },
  "nbformat": 4,
  "nbformat_minor": 0
}
